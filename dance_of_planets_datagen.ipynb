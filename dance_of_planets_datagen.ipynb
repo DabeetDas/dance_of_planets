{
  "nbformat": 4,
  "nbformat_minor": 0,
  "metadata": {
    "colab": {
      "provenance": []
    },
    "kernelspec": {
      "name": "python3",
      "display_name": "Python 3"
    },
    "language_info": {
      "name": "python"
    }
  },
  "cells": [
    {
      "cell_type": "code",
      "execution_count": 1,
      "metadata": {
        "id": "j4gFtViNMP2h"
      },
      "outputs": [],
      "source": [
        "import numpy as np\n",
        "import matplotlib.pyplot as plt\n",
        "import pandas as pd\n",
        "from scipy.integrate import solve_ivp"
      ]
    },
    {
      "cell_type": "code",
      "source": [
        "m1,m2 = np.random.uniform(0.5,5.0,size=2)"
      ],
      "metadata": {
        "id": "QyedqH-2SVPw"
      },
      "execution_count": 2,
      "outputs": []
    },
    {
      "cell_type": "code",
      "source": [
        "m1"
      ],
      "metadata": {
        "colab": {
          "base_uri": "https://localhost:8080/"
        },
        "id": "TcIbEVf9Sv91",
        "outputId": "df3877df-dff1-4765-f871-dc2f1fe6ad23"
      },
      "execution_count": 3,
      "outputs": [
        {
          "output_type": "execute_result",
          "data": {
            "text/plain": [
              "np.float64(1.4780714028007538)"
            ]
          },
          "metadata": {},
          "execution_count": 3
        }
      ]
    },
    {
      "cell_type": "code",
      "source": [
        "m2"
      ],
      "metadata": {
        "colab": {
          "base_uri": "https://localhost:8080/"
        },
        "id": "w74zgRpvS7EY",
        "outputId": "02097859-2d36-4768-a85d-02da8a7844e0"
      },
      "execution_count": 4,
      "outputs": [
        {
          "output_type": "execute_result",
          "data": {
            "text/plain": [
              "np.float64(0.712475060395064)"
            ]
          },
          "metadata": {},
          "execution_count": 4
        }
      ]
    },
    {
      "cell_type": "code",
      "source": [
        "x1 = np.random.uniform(-4,4,size=2)"
      ],
      "metadata": {
        "id": "4_udf36dS7qL"
      },
      "execution_count": 5,
      "outputs": []
    },
    {
      "cell_type": "code",
      "source": [
        "x2 = np.random.uniform(-10,10,size=2)"
      ],
      "metadata": {
        "id": "ECAT7H6QTSIR"
      },
      "execution_count": 6,
      "outputs": []
    },
    {
      "cell_type": "code",
      "source": [
        "x2"
      ],
      "metadata": {
        "colab": {
          "base_uri": "https://localhost:8080/"
        },
        "id": "UqzPfNg0TXF1",
        "outputId": "796f5b3d-6fcd-4117-f378-51932ebc0c26"
      },
      "execution_count": 7,
      "outputs": [
        {
          "output_type": "execute_result",
          "data": {
            "text/plain": [
              "array([0.66528943, 1.96302026])"
            ]
          },
          "metadata": {},
          "execution_count": 7
        }
      ]
    },
    {
      "cell_type": "code",
      "source": [
        "x1.shape"
      ],
      "metadata": {
        "colab": {
          "base_uri": "https://localhost:8080/"
        },
        "id": "9WoqdSPYTN2g",
        "outputId": "41b8aa22-1616-4583-c727-16bb5077915b"
      },
      "execution_count": 8,
      "outputs": [
        {
          "output_type": "execute_result",
          "data": {
            "text/plain": [
              "(2,)"
            ]
          },
          "metadata": {},
          "execution_count": 8
        }
      ]
    },
    {
      "cell_type": "code",
      "source": [
        "def two_body_ode(t, y, G, m1, m2):\n",
        "    x1 = y[0:2]\n",
        "    v1 = y[2:4]\n",
        "    x2 = y[4:6]\n",
        "    v2 = y[6:8]\n",
        "\n",
        "    r12 = x2 - x1\n",
        "    r = np.linalg.norm(r12)\n",
        "    if r == 0:\n",
        "        return np.zeros(8)\n",
        "\n",
        "    a1 = G * m2 * r12 / r**3\n",
        "    a2 = -G * m1 * r12 / r**3\n",
        "\n",
        "    dydt = np.zeros(8)\n",
        "    dydt[0:2] = v1\n",
        "    dydt[2:4] = a1\n",
        "    dydt[4:6] = v2\n",
        "    dydt[6:8] = a2\n",
        "\n",
        "    return dydt\n",
        "\n",
        "def generate_sample(G=1.0, t_max=50.0):\n",
        "    # Random masses and initial conditions\n",
        "    m1, m2 = np.random.uniform(0.1, 10.0, size=2)\n",
        "    x1 = np.random.uniform(-10, 10, size=2)\n",
        "    x2 = np.random.uniform(-10, 10, size=2)\n",
        "    v1 = np.random.uniform(-5, 5, size=2)\n",
        "    v2 = np.random.uniform(-5, 5, size=2)\n",
        "\n",
        "    y0 = np.concatenate([x1, v1, x2, v2])\n",
        "\n",
        "    # Choose a random time t_eval < t_max\n",
        "    t_eval = [np.random.uniform(0.5, t_max)]  # Avoid t=0 which is just initial state\n",
        "\n",
        "    # Solve ODE\n",
        "    sol = solve_ivp(two_body_ode, [0, t_max], y0, args=(G, m1, m2), t_eval=t_eval)\n",
        "\n",
        "    if not sol.success:\n",
        "        return None  # Skip failed cases\n",
        "\n",
        "    final_state = sol.y[:, -1]\n",
        "\n",
        "    return {\n",
        "        \"m1\": m1, \"m2\": m2,\n",
        "        \"x1_0\": x1.tolist(), \"x2_0\": x2.tolist(),\n",
        "        \"v1_0\": v1.tolist(), \"v2_0\": v2.tolist(),\n",
        "        \"t\": t_eval[0],\n",
        "        \"x1_t\": final_state[0:2].tolist(),\n",
        "        \"x2_t\": final_state[4:6].tolist(),\n",
        "    }\n"
      ],
      "metadata": {
        "id": "79MGTibrTOgU"
      },
      "execution_count": 9,
      "outputs": []
    },
    {
      "cell_type": "code",
      "source": [
        "from tqdm import tqdm"
      ],
      "metadata": {
        "id": "GhNY4OLFLIKn"
      },
      "execution_count": 10,
      "outputs": []
    },
    {
      "cell_type": "code",
      "source": [
        "data = []\n",
        "for _ in tqdm(range(11000)):  # Number of samples\n",
        "    sample = generate_sample()\n",
        "    if sample:\n",
        "        data.append(sample)\n",
        "\n",
        "df = pd.DataFrame(data)\n",
        "df.to_csv(\"two_body_dataset.csv\", index=False)"
      ],
      "metadata": {
        "colab": {
          "base_uri": "https://localhost:8080/"
        },
        "id": "MsfacLLZ75aN",
        "outputId": "13a7174c-f1c6-44ae-cfb4-3f31be97d45a"
      },
      "execution_count": 11,
      "outputs": [
        {
          "output_type": "stream",
          "name": "stderr",
          "text": [
            "100%|██████████| 11000/11000 [01:36<00:00, 113.69it/s]\n"
          ]
        }
      ]
    },
    {
      "cell_type": "code",
      "source": [],
      "metadata": {
        "id": "DCSA-3P777Fz"
      },
      "execution_count": 11,
      "outputs": []
    }
  ]
}